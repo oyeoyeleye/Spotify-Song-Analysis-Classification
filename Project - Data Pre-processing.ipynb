{
 "cells": [
  {
   "cell_type": "markdown",
   "metadata": {},
   "source": [
    "# DATA COLLECTION AND PREPARATION"
   ]
  },
  {
   "cell_type": "markdown",
   "metadata": {},
   "source": [
    "### Install Spotipy to generate data"
   ]
  },
  {
   "cell_type": "code",
   "execution_count": 4,
   "metadata": {},
   "outputs": [
    {
     "name": "stdout",
     "output_type": "stream",
     "text": [
      "\u001b[33mDEPRECATION: Python 3.5 reached the end of its life on September 13th, 2020. Please upgrade your Python as Python 3.5 is no longer maintained. pip 21.0 will drop support for Python 3.5 in January 2021. pip 21.0 will remove support for this functionality.\u001b[0m\n",
      "Defaulting to user installation because normal site-packages is not writeable\n",
      "Collecting spotipy\n",
      "  Downloading spotipy-2.16.1-py3-none-any.whl (24 kB)\n",
      "Requirement already satisfied: six>=1.10.0 in ./.local/lib/python3.5/site-packages (from spotipy) (1.15.0)\n",
      "Collecting requests>=2.20.0\n",
      "  Downloading requests-2.25.1-py2.py3-none-any.whl (61 kB)\n",
      "\u001b[K     |████████████████████████████████| 61 kB 2.3 MB/s  eta 0:00:01\n",
      "\u001b[?25hCollecting idna<3,>=2.5\n",
      "  Downloading idna-2.10-py2.py3-none-any.whl (58 kB)\n",
      "\u001b[K     |████████████████████████████████| 58 kB 788 kB/s eta 0:00:01\n",
      "\u001b[?25hCollecting certifi>=2017.4.17\n",
      "  Downloading certifi-2020.12.5-py2.py3-none-any.whl (147 kB)\n",
      "\u001b[K     |████████████████████████████████| 147 kB 625 kB/s eta 0:00:01\n",
      "\u001b[?25hCollecting urllib3<1.27,>=1.21.1\n",
      "  Downloading urllib3-1.26.3-py2.py3-none-any.whl (137 kB)\n",
      "\u001b[K     |████████████████████████████████| 137 kB 1.5 MB/s eta 0:00:01\n",
      "\u001b[?25hCollecting chardet<5,>=3.0.2\n",
      "  Downloading chardet-4.0.0-py2.py3-none-any.whl (178 kB)\n",
      "\u001b[K     |████████████████████████████████| 178 kB 2.5 MB/s eta 0:00:01\n",
      "\u001b[?25hInstalling collected packages: urllib3, idna, chardet, certifi, requests, spotipy\n",
      "Successfully installed certifi-2020.12.5 chardet-4.0.0 idna-2.10 requests-2.25.1 spotipy-2.16.1 urllib3-1.26.3\n"
     ]
    }
   ],
   "source": [
    "# !pip3 install spotipy"
   ]
  },
  {
   "cell_type": "code",
   "execution_count": 92,
   "metadata": {},
   "outputs": [],
   "source": [
    "try:\n",
    "    sc.stop()\n",
    "except:\n",
    "    pass"
   ]
  },
  {
   "cell_type": "code",
   "execution_count": 93,
   "metadata": {},
   "outputs": [],
   "source": [
    "from pyspark import SparkContext, SparkConf\n",
    "conf = SparkConf().setAppName('Capstone_Project').setMaster('local[4]')\n",
    "sc = SparkContext.getOrCreate(conf = conf)\n",
    "\n",
    "from pyspark.sql import SparkSession \n",
    "from pyspark.sql.types import StructField, StringType, IntegerType, StructType\n",
    "spark = SparkSession.builder.appName('Capstone_SQL').getOrCreate()"
   ]
  },
  {
   "cell_type": "markdown",
   "metadata": {},
   "source": [
    "## GET DATA\n",
    "\n",
    "Datasets will be in 2 parts: the track IDs and audio features.\n",
    "    \n",
    "#### TRACK IDS PREPARATION"
   ]
  },
  {
   "cell_type": "code",
   "execution_count": 2,
   "metadata": {
    "scrolled": true
   },
   "outputs": [],
   "source": [
    "import pandas as pd \n",
    "import spotipy \n",
    "sp = spotipy.Spotify() \n",
    "from spotipy.oauth2 import SpotifyClientCredentials \n",
    "# Hid my client id and passport for security and password\n",
    "cid = 'hidden' \n",
    "secret = 'hidden'\n",
    "client_credentials_manager = SpotifyClientCredentials(client_id=cid, client_secret=secret) \n",
    "sp = spotipy.Spotify(client_credentials_manager=client_credentials_manager) \n",
    "# sp.trace=False "
   ]
  },
  {
   "cell_type": "code",
   "execution_count": 23,
   "metadata": {},
   "outputs": [
    {
     "name": "stdout",
     "output_type": "stream",
     "text": [
      "Time (in seconds):  6.730878067999583\n"
     ]
    }
   ],
   "source": [
    "import timeit\n",
    "start = timeit.default_timer()\n",
    "\n",
    "# Empty lists to store results\n",
    "artist_name = []\n",
    "track_name = []\n",
    "track_id = []\n",
    "uri = []\n",
    "category = []\n",
    "popularity = []\n",
    "# date_release = []\n",
    "\n",
    "for i in range(0, 2000, 50):  # Current maximum offset is 2000\n",
    "    results = sp.search(q='year:' + '2020', type='track', limit=50,offset=i)\n",
    "    for i, t in enumerate(results['tracks']['items']):\n",
    "        artist_name.append(t['artists'][0]['name'])\n",
    "        track_name.append(t['name'])\n",
    "        track_id.append(t['id'])\n",
    "        uri.append(t['artists'][0]['uri'])\n",
    "        category.append(t['type'])\n",
    "        popularity.append(t['popularity'])\n",
    "#         date_release.append(t['release_date'])   \n",
    "\n",
    "stop = timeit.default_timer()\n",
    "print('Time (in seconds): ', stop - start)"
   ]
  },
  {
   "cell_type": "code",
   "execution_count": 1,
   "metadata": {
    "scrolled": false
   },
   "outputs": [],
   "source": [
    "# results  "
   ]
  },
  {
   "cell_type": "code",
   "execution_count": 24,
   "metadata": {},
   "outputs": [
    {
     "name": "stdout",
     "output_type": "stream",
     "text": [
      "(2000, 6)\n"
     ]
    },
    {
     "data": {
      "text/html": [
       "<div>\n",
       "<style scoped>\n",
       "    .dataframe tbody tr th:only-of-type {\n",
       "        vertical-align: middle;\n",
       "    }\n",
       "\n",
       "    .dataframe tbody tr th {\n",
       "        vertical-align: top;\n",
       "    }\n",
       "\n",
       "    .dataframe thead th {\n",
       "        text-align: right;\n",
       "    }\n",
       "</style>\n",
       "<table border=\"1\" class=\"dataframe\">\n",
       "  <thead>\n",
       "    <tr style=\"text-align: right;\">\n",
       "      <th></th>\n",
       "      <th>artist_name</th>\n",
       "      <th>category</th>\n",
       "      <th>popularity</th>\n",
       "      <th>track_id</th>\n",
       "      <th>track_name</th>\n",
       "      <th>uri</th>\n",
       "    </tr>\n",
       "  </thead>\n",
       "  <tbody>\n",
       "    <tr>\n",
       "      <th>0</th>\n",
       "      <td>SZA</td>\n",
       "      <td>track</td>\n",
       "      <td>92</td>\n",
       "      <td>3YJJjQPAbDT7mGpX3WtQ9A</td>\n",
       "      <td>Good Days</td>\n",
       "      <td>spotify:artist:7tYKF4w9nC0nq9CsPZTHyP</td>\n",
       "    </tr>\n",
       "    <tr>\n",
       "      <th>1</th>\n",
       "      <td>Hammock</td>\n",
       "      <td>track</td>\n",
       "      <td>35</td>\n",
       "      <td>51TAp7p7B3xboCl5HWmEkF</td>\n",
       "      <td>Longest Year - 2020</td>\n",
       "      <td>spotify:artist:0VOR7Ie9xUSb45fzIIVJQ1</td>\n",
       "    </tr>\n",
       "    <tr>\n",
       "      <th>2</th>\n",
       "      <td>24kGoldn</td>\n",
       "      <td>track</td>\n",
       "      <td>95</td>\n",
       "      <td>3tjFYV6RSFtuktYl3ZtYcq</td>\n",
       "      <td>Mood (feat. iann dior)</td>\n",
       "      <td>spotify:artist:6fWVd57NKTalqvmjRd2t8Z</td>\n",
       "    </tr>\n",
       "    <tr>\n",
       "      <th>3</th>\n",
       "      <td>Hammock</td>\n",
       "      <td>track</td>\n",
       "      <td>40</td>\n",
       "      <td>79hqdNpnWPVVxmZiDfKaIL</td>\n",
       "      <td>Dark Beyond the Blue - 2020</td>\n",
       "      <td>spotify:artist:0VOR7Ie9xUSb45fzIIVJQ1</td>\n",
       "    </tr>\n",
       "    <tr>\n",
       "      <th>4</th>\n",
       "      <td>CJ</td>\n",
       "      <td>track</td>\n",
       "      <td>93</td>\n",
       "      <td>5vGLcdRuSbUhD8ScwsGSdA</td>\n",
       "      <td>Whoopty</td>\n",
       "      <td>spotify:artist:7arQA31aZVS8yS6zUveWzb</td>\n",
       "    </tr>\n",
       "  </tbody>\n",
       "</table>\n",
       "</div>"
      ],
      "text/plain": [
       "  artist_name category  popularity                track_id  \\\n",
       "0         SZA    track          92  3YJJjQPAbDT7mGpX3WtQ9A   \n",
       "1     Hammock    track          35  51TAp7p7B3xboCl5HWmEkF   \n",
       "2    24kGoldn    track          95  3tjFYV6RSFtuktYl3ZtYcq   \n",
       "3     Hammock    track          40  79hqdNpnWPVVxmZiDfKaIL   \n",
       "4          CJ    track          93  5vGLcdRuSbUhD8ScwsGSdA   \n",
       "\n",
       "                    track_name                                    uri  \n",
       "0                    Good Days  spotify:artist:7tYKF4w9nC0nq9CsPZTHyP  \n",
       "1          Longest Year - 2020  spotify:artist:0VOR7Ie9xUSb45fzIIVJQ1  \n",
       "2       Mood (feat. iann dior)  spotify:artist:6fWVd57NKTalqvmjRd2t8Z  \n",
       "3  Dark Beyond the Blue - 2020  spotify:artist:0VOR7Ie9xUSb45fzIIVJQ1  \n",
       "4                      Whoopty  spotify:artist:7arQA31aZVS8yS6zUveWzb  "
      ]
     },
     "execution_count": 24,
     "metadata": {},
     "output_type": "execute_result"
    }
   ],
   "source": [
    "df2020 = pd.DataFrame({'artist_name' : artist_name, 'track_name' : track_name, 'track_id' : track_id, 'uri' : uri, 'category' : category, 'popularity' : popularity})\n",
    "print(df2020.shape)\n",
    "df2020.head()\n",
    "\n",
    "# plotly visualization\n",
    "# collaboratering filtering ( Collaberative Filtering)"
   ]
  },
  {
   "cell_type": "markdown",
   "metadata": {},
   "source": [
    "I collected a sample of 2000 to begin some analysis of songs and artists with in the year 2020."
   ]
  },
  {
   "cell_type": "markdown",
   "metadata": {},
   "source": [
    "Now that I have been able to create a dataframe, I will convert the pandas dataframe to a spark dataframe since I intend to use pyspark for the most part."
   ]
  },
  {
   "cell_type": "code",
   "execution_count": 32,
   "metadata": {},
   "outputs": [
    {
     "name": "stdout",
     "output_type": "stream",
     "text": [
      "+-----------+--------+----------+--------------------+--------------------+--------------------+\n",
      "|artist_name|category|popularity|            track_id|          track_name|                 uri|\n",
      "+-----------+--------+----------+--------------------+--------------------+--------------------+\n",
      "|        SZA|   track|        92|3YJJjQPAbDT7mGpX3...|           Good Days|spotify:artist:7t...|\n",
      "|    Hammock|   track|        35|51TAp7p7B3xboCl5H...| Longest Year - 2020|spotify:artist:0V...|\n",
      "|   24kGoldn|   track|        95|3tjFYV6RSFtuktYl3...|Mood (feat. iann ...|spotify:artist:6f...|\n",
      "+-----------+--------+----------+--------------------+--------------------+--------------------+\n",
      "only showing top 3 rows\n",
      "\n"
     ]
    }
   ],
   "source": [
    "sp2020 = spark.createDataFrame(df2020) # creating a spark dataframe from the pandas dataframe I have.\n",
    "sp2020.show(3)"
   ]
  },
  {
   "cell_type": "markdown",
   "metadata": {},
   "source": [
    "Time to persist the data to memory for faster operations."
   ]
  },
  {
   "cell_type": "code",
   "execution_count": 33,
   "metadata": {},
   "outputs": [
    {
     "data": {
      "text/plain": [
       "DataFrame[artist_name: string, category: string, popularity: bigint, track_id: string, track_name: string, uri: string]"
      ]
     },
     "execution_count": 33,
     "metadata": {},
     "output_type": "execute_result"
    }
   ],
   "source": [
    "sp2020.cache()"
   ]
  },
  {
   "cell_type": "code",
   "execution_count": 34,
   "metadata": {},
   "outputs": [
    {
     "name": "stdout",
     "output_type": "stream",
     "text": [
      "root\n",
      " |-- artist_name: string (nullable = true)\n",
      " |-- category: string (nullable = true)\n",
      " |-- popularity: long (nullable = true)\n",
      " |-- track_id: string (nullable = true)\n",
      " |-- track_name: string (nullable = true)\n",
      " |-- uri: string (nullable = true)\n",
      "\n"
     ]
    }
   ],
   "source": [
    "sp2020.printSchema()"
   ]
  },
  {
   "cell_type": "code",
   "execution_count": 63,
   "metadata": {},
   "outputs": [
    {
     "name": "stdout",
     "output_type": "stream",
     "text": [
      "Number of duplicates songs are 53\n"
     ]
    }
   ],
   "source": [
    "# Do I have any duplicates songs in the table? How many if I do?\n",
    "\n",
    "dup = df2020.drop_duplicates(subset=['artist_name','track_name']).count()[0]\n",
    "print('Number of duplicates songs are', 2000 - dup)"
   ]
  },
  {
   "cell_type": "code",
   "execution_count": 62,
   "metadata": {},
   "outputs": [
    {
     "name": "stdout",
     "output_type": "stream",
     "text": [
      "Number of songs in table is now 1947\n"
     ]
    }
   ],
   "source": [
    "# Dropping any duplicates songs in the table\n",
    "\n",
    "df2020.drop_duplicates(subset=['artist_name','track_name'], inplace=True)\n",
    "print(\"Number of songs in table is now\", df2020.count()[0])"
   ]
  },
  {
   "cell_type": "code",
   "execution_count": 65,
   "metadata": {},
   "outputs": [
    {
     "data": {
      "text/plain": [
       "artist_name    0\n",
       "category       0\n",
       "popularity     0\n",
       "track_id       0\n",
       "track_name     0\n",
       "uri            0\n",
       "dtype: int64"
      ]
     },
     "execution_count": 65,
     "metadata": {},
     "output_type": "execute_result"
    }
   ],
   "source": [
    "# Checking to see if I have any missing values\n",
    "\n",
    "df2020.isna().sum()"
   ]
  },
  {
   "cell_type": "markdown",
   "metadata": {},
   "source": [
    "Cool no missing values"
   ]
  },
  {
   "cell_type": "markdown",
   "metadata": {},
   "source": [
    "#### AUDIO FEATURES REPARATION OF THE 1947 SONGS FROM TRACK IDS\n"
   ]
  },
  {
   "cell_type": "code",
   "execution_count": 71,
   "metadata": {},
   "outputs": [
    {
     "name": "stdout",
     "output_type": "stream",
     "text": [
      "Number of tracks with no audio features: 0\n",
      "Time (in seconds):: 4.892801713998779\n",
      "Number of audio features gotten: 1947\n"
     ]
    }
   ],
   "source": [
    "start = timeit.default_timer()\n",
    "\n",
    "rows = []\n",
    "batchsize = 100\n",
    "None_counter = 0\n",
    "\n",
    "for i in range(0,len(df2020['track_id']),batchsize):\n",
    "    batch = df2020['track_id'][i:i+batchsize]\n",
    "    feature_results = sp.audio_features(batch)\n",
    "    for i, t in enumerate(feature_results):\n",
    "        if t == None:\n",
    "            None_counter = None_counter + 1\n",
    "        else:\n",
    "            rows.append(t)\n",
    "            \n",
    "print('Number of tracks with no audio features:', None_counter)\n",
    "\n",
    "stop = timeit.default_timer()\n",
    "print('Time (in seconds)::' , stop - start)\n",
    "print('Number of audio features gotten:', len(rows))"
   ]
  },
  {
   "cell_type": "code",
   "execution_count": 72,
   "metadata": {},
   "outputs": [
    {
     "data": {
      "text/html": [
       "<div>\n",
       "<style scoped>\n",
       "    .dataframe tbody tr th:only-of-type {\n",
       "        vertical-align: middle;\n",
       "    }\n",
       "\n",
       "    .dataframe tbody tr th {\n",
       "        vertical-align: top;\n",
       "    }\n",
       "\n",
       "    .dataframe thead th {\n",
       "        text-align: right;\n",
       "    }\n",
       "</style>\n",
       "<table border=\"1\" class=\"dataframe\">\n",
       "  <thead>\n",
       "    <tr style=\"text-align: right;\">\n",
       "      <th></th>\n",
       "      <th>acousticness</th>\n",
       "      <th>analysis_url</th>\n",
       "      <th>danceability</th>\n",
       "      <th>duration_ms</th>\n",
       "      <th>energy</th>\n",
       "      <th>id</th>\n",
       "      <th>instrumentalness</th>\n",
       "      <th>key</th>\n",
       "      <th>liveness</th>\n",
       "      <th>loudness</th>\n",
       "      <th>mode</th>\n",
       "      <th>speechiness</th>\n",
       "      <th>tempo</th>\n",
       "      <th>time_signature</th>\n",
       "      <th>track_href</th>\n",
       "      <th>type</th>\n",
       "      <th>uri</th>\n",
       "      <th>valence</th>\n",
       "    </tr>\n",
       "  </thead>\n",
       "  <tbody>\n",
       "    <tr>\n",
       "      <th>0</th>\n",
       "      <td>0.499</td>\n",
       "      <td>https://api.spotify.com/v1/audio-analysis/3YJJ...</td>\n",
       "      <td>0.4360</td>\n",
       "      <td>279204</td>\n",
       "      <td>0.655</td>\n",
       "      <td>3YJJjQPAbDT7mGpX3WtQ9A</td>\n",
       "      <td>0.000008</td>\n",
       "      <td>1</td>\n",
       "      <td>0.6880</td>\n",
       "      <td>-8.370</td>\n",
       "      <td>0</td>\n",
       "      <td>0.0583</td>\n",
       "      <td>121.002</td>\n",
       "      <td>4</td>\n",
       "      <td>https://api.spotify.com/v1/tracks/3YJJjQPAbDT7...</td>\n",
       "      <td>audio_features</td>\n",
       "      <td>spotify:track:3YJJjQPAbDT7mGpX3WtQ9A</td>\n",
       "      <td>0.4120</td>\n",
       "    </tr>\n",
       "    <tr>\n",
       "      <th>1</th>\n",
       "      <td>0.700</td>\n",
       "      <td>https://api.spotify.com/v1/audio-analysis/51TA...</td>\n",
       "      <td>0.0692</td>\n",
       "      <td>533707</td>\n",
       "      <td>0.285</td>\n",
       "      <td>51TAp7p7B3xboCl5HWmEkF</td>\n",
       "      <td>0.673000</td>\n",
       "      <td>2</td>\n",
       "      <td>0.1990</td>\n",
       "      <td>-14.854</td>\n",
       "      <td>1</td>\n",
       "      <td>0.0482</td>\n",
       "      <td>78.572</td>\n",
       "      <td>4</td>\n",
       "      <td>https://api.spotify.com/v1/tracks/51TAp7p7B3xb...</td>\n",
       "      <td>audio_features</td>\n",
       "      <td>spotify:track:51TAp7p7B3xboCl5HWmEkF</td>\n",
       "      <td>0.0312</td>\n",
       "    </tr>\n",
       "    <tr>\n",
       "      <th>2</th>\n",
       "      <td>0.221</td>\n",
       "      <td>https://api.spotify.com/v1/audio-analysis/3tjF...</td>\n",
       "      <td>0.7000</td>\n",
       "      <td>140526</td>\n",
       "      <td>0.722</td>\n",
       "      <td>3tjFYV6RSFtuktYl3ZtYcq</td>\n",
       "      <td>0.000000</td>\n",
       "      <td>7</td>\n",
       "      <td>0.2720</td>\n",
       "      <td>-3.558</td>\n",
       "      <td>0</td>\n",
       "      <td>0.0369</td>\n",
       "      <td>90.989</td>\n",
       "      <td>4</td>\n",
       "      <td>https://api.spotify.com/v1/tracks/3tjFYV6RSFtu...</td>\n",
       "      <td>audio_features</td>\n",
       "      <td>spotify:track:3tjFYV6RSFtuktYl3ZtYcq</td>\n",
       "      <td>0.7560</td>\n",
       "    </tr>\n",
       "    <tr>\n",
       "      <th>3</th>\n",
       "      <td>0.729</td>\n",
       "      <td>https://api.spotify.com/v1/audio-analysis/79hq...</td>\n",
       "      <td>0.2000</td>\n",
       "      <td>325680</td>\n",
       "      <td>0.282</td>\n",
       "      <td>79hqdNpnWPVVxmZiDfKaIL</td>\n",
       "      <td>0.887000</td>\n",
       "      <td>2</td>\n",
       "      <td>0.0837</td>\n",
       "      <td>-19.803</td>\n",
       "      <td>0</td>\n",
       "      <td>0.0468</td>\n",
       "      <td>74.381</td>\n",
       "      <td>3</td>\n",
       "      <td>https://api.spotify.com/v1/tracks/79hqdNpnWPVV...</td>\n",
       "      <td>audio_features</td>\n",
       "      <td>spotify:track:79hqdNpnWPVVxmZiDfKaIL</td>\n",
       "      <td>0.0372</td>\n",
       "    </tr>\n",
       "    <tr>\n",
       "      <th>4</th>\n",
       "      <td>0.190</td>\n",
       "      <td>https://api.spotify.com/v1/audio-analysis/5vGL...</td>\n",
       "      <td>0.7110</td>\n",
       "      <td>123429</td>\n",
       "      <td>0.598</td>\n",
       "      <td>5vGLcdRuSbUhD8ScwsGSdA</td>\n",
       "      <td>0.000000</td>\n",
       "      <td>3</td>\n",
       "      <td>0.1500</td>\n",
       "      <td>-7.621</td>\n",
       "      <td>0</td>\n",
       "      <td>0.1820</td>\n",
       "      <td>140.175</td>\n",
       "      <td>4</td>\n",
       "      <td>https://api.spotify.com/v1/tracks/5vGLcdRuSbUh...</td>\n",
       "      <td>audio_features</td>\n",
       "      <td>spotify:track:5vGLcdRuSbUhD8ScwsGSdA</td>\n",
       "      <td>0.7370</td>\n",
       "    </tr>\n",
       "  </tbody>\n",
       "</table>\n",
       "</div>"
      ],
      "text/plain": [
       "   acousticness                                       analysis_url  \\\n",
       "0         0.499  https://api.spotify.com/v1/audio-analysis/3YJJ...   \n",
       "1         0.700  https://api.spotify.com/v1/audio-analysis/51TA...   \n",
       "2         0.221  https://api.spotify.com/v1/audio-analysis/3tjF...   \n",
       "3         0.729  https://api.spotify.com/v1/audio-analysis/79hq...   \n",
       "4         0.190  https://api.spotify.com/v1/audio-analysis/5vGL...   \n",
       "\n",
       "   danceability  duration_ms  energy                      id  \\\n",
       "0        0.4360       279204   0.655  3YJJjQPAbDT7mGpX3WtQ9A   \n",
       "1        0.0692       533707   0.285  51TAp7p7B3xboCl5HWmEkF   \n",
       "2        0.7000       140526   0.722  3tjFYV6RSFtuktYl3ZtYcq   \n",
       "3        0.2000       325680   0.282  79hqdNpnWPVVxmZiDfKaIL   \n",
       "4        0.7110       123429   0.598  5vGLcdRuSbUhD8ScwsGSdA   \n",
       "\n",
       "   instrumentalness  key  liveness  loudness  mode  speechiness    tempo  \\\n",
       "0          0.000008    1    0.6880    -8.370     0       0.0583  121.002   \n",
       "1          0.673000    2    0.1990   -14.854     1       0.0482   78.572   \n",
       "2          0.000000    7    0.2720    -3.558     0       0.0369   90.989   \n",
       "3          0.887000    2    0.0837   -19.803     0       0.0468   74.381   \n",
       "4          0.000000    3    0.1500    -7.621     0       0.1820  140.175   \n",
       "\n",
       "   time_signature                                         track_href  \\\n",
       "0               4  https://api.spotify.com/v1/tracks/3YJJjQPAbDT7...   \n",
       "1               4  https://api.spotify.com/v1/tracks/51TAp7p7B3xb...   \n",
       "2               4  https://api.spotify.com/v1/tracks/3tjFYV6RSFtu...   \n",
       "3               3  https://api.spotify.com/v1/tracks/79hqdNpnWPVV...   \n",
       "4               4  https://api.spotify.com/v1/tracks/5vGLcdRuSbUh...   \n",
       "\n",
       "             type                                   uri  valence  \n",
       "0  audio_features  spotify:track:3YJJjQPAbDT7mGpX3WtQ9A   0.4120  \n",
       "1  audio_features  spotify:track:51TAp7p7B3xboCl5HWmEkF   0.0312  \n",
       "2  audio_features  spotify:track:3tjFYV6RSFtuktYl3ZtYcq   0.7560  \n",
       "3  audio_features  spotify:track:79hqdNpnWPVVxmZiDfKaIL   0.0372  \n",
       "4  audio_features  spotify:track:5vGLcdRuSbUhD8ScwsGSdA   0.7370  "
      ]
     },
     "execution_count": 72,
     "metadata": {},
     "output_type": "execute_result"
    }
   ],
   "source": [
    "df_audio2020 = pd.DataFrame.from_dict(rows, orient='columns')\n",
    "df_audio2020.head()"
   ]
  },
  {
   "cell_type": "markdown",
   "metadata": {},
   "source": [
    "Getting basic statistics of audio features generated"
   ]
  },
  {
   "cell_type": "code",
   "execution_count": 77,
   "metadata": {},
   "outputs": [
    {
     "data": {
      "text/plain": [
       "array(['audio_features'], dtype=object)"
      ]
     },
     "execution_count": 77,
     "metadata": {},
     "output_type": "execute_result"
    }
   ],
   "source": [
    "df_audio2020.type.unique()  # Will drop this column as it has only one entry"
   ]
  },
  {
   "cell_type": "code",
   "execution_count": 88,
   "metadata": {},
   "outputs": [
    {
     "data": {
      "text/plain": [
       "array(['track'], dtype=object)"
      ]
     },
     "execution_count": 88,
     "metadata": {},
     "output_type": "execute_result"
    }
   ],
   "source": [
    "df2020.category.unique()    # Will drop this column also as it has only one entry"
   ]
  },
  {
   "cell_type": "markdown",
   "metadata": {},
   "source": [
    "Saving the uri types and removing unnecessaray columns"
   ]
  },
  {
   "cell_type": "code",
   "execution_count": 89,
   "metadata": {},
   "outputs": [
    {
     "data": {
      "text/html": [
       "<div>\n",
       "<style scoped>\n",
       "    .dataframe tbody tr th:only-of-type {\n",
       "        vertical-align: middle;\n",
       "    }\n",
       "\n",
       "    .dataframe tbody tr th {\n",
       "        vertical-align: top;\n",
       "    }\n",
       "\n",
       "    .dataframe thead th {\n",
       "        text-align: right;\n",
       "    }\n",
       "</style>\n",
       "<table border=\"1\" class=\"dataframe\">\n",
       "  <thead>\n",
       "    <tr style=\"text-align: right;\">\n",
       "      <th></th>\n",
       "      <th>acousticness</th>\n",
       "      <th>danceability</th>\n",
       "      <th>duration_ms</th>\n",
       "      <th>energy</th>\n",
       "      <th>track_id</th>\n",
       "      <th>instrumentalness</th>\n",
       "      <th>key</th>\n",
       "      <th>liveness</th>\n",
       "      <th>loudness</th>\n",
       "      <th>mode</th>\n",
       "      <th>speechiness</th>\n",
       "      <th>tempo</th>\n",
       "      <th>time_signature</th>\n",
       "      <th>valence</th>\n",
       "    </tr>\n",
       "  </thead>\n",
       "  <tbody>\n",
       "    <tr>\n",
       "      <th>0</th>\n",
       "      <td>0.499</td>\n",
       "      <td>0.4360</td>\n",
       "      <td>279204</td>\n",
       "      <td>0.655</td>\n",
       "      <td>3YJJjQPAbDT7mGpX3WtQ9A</td>\n",
       "      <td>0.000008</td>\n",
       "      <td>1</td>\n",
       "      <td>0.6880</td>\n",
       "      <td>-8.370</td>\n",
       "      <td>0</td>\n",
       "      <td>0.0583</td>\n",
       "      <td>121.002</td>\n",
       "      <td>4</td>\n",
       "      <td>0.4120</td>\n",
       "    </tr>\n",
       "    <tr>\n",
       "      <th>1</th>\n",
       "      <td>0.700</td>\n",
       "      <td>0.0692</td>\n",
       "      <td>533707</td>\n",
       "      <td>0.285</td>\n",
       "      <td>51TAp7p7B3xboCl5HWmEkF</td>\n",
       "      <td>0.673000</td>\n",
       "      <td>2</td>\n",
       "      <td>0.1990</td>\n",
       "      <td>-14.854</td>\n",
       "      <td>1</td>\n",
       "      <td>0.0482</td>\n",
       "      <td>78.572</td>\n",
       "      <td>4</td>\n",
       "      <td>0.0312</td>\n",
       "    </tr>\n",
       "    <tr>\n",
       "      <th>2</th>\n",
       "      <td>0.221</td>\n",
       "      <td>0.7000</td>\n",
       "      <td>140526</td>\n",
       "      <td>0.722</td>\n",
       "      <td>3tjFYV6RSFtuktYl3ZtYcq</td>\n",
       "      <td>0.000000</td>\n",
       "      <td>7</td>\n",
       "      <td>0.2720</td>\n",
       "      <td>-3.558</td>\n",
       "      <td>0</td>\n",
       "      <td>0.0369</td>\n",
       "      <td>90.989</td>\n",
       "      <td>4</td>\n",
       "      <td>0.7560</td>\n",
       "    </tr>\n",
       "    <tr>\n",
       "      <th>3</th>\n",
       "      <td>0.729</td>\n",
       "      <td>0.2000</td>\n",
       "      <td>325680</td>\n",
       "      <td>0.282</td>\n",
       "      <td>79hqdNpnWPVVxmZiDfKaIL</td>\n",
       "      <td>0.887000</td>\n",
       "      <td>2</td>\n",
       "      <td>0.0837</td>\n",
       "      <td>-19.803</td>\n",
       "      <td>0</td>\n",
       "      <td>0.0468</td>\n",
       "      <td>74.381</td>\n",
       "      <td>3</td>\n",
       "      <td>0.0372</td>\n",
       "    </tr>\n",
       "    <tr>\n",
       "      <th>4</th>\n",
       "      <td>0.190</td>\n",
       "      <td>0.7110</td>\n",
       "      <td>123429</td>\n",
       "      <td>0.598</td>\n",
       "      <td>5vGLcdRuSbUhD8ScwsGSdA</td>\n",
       "      <td>0.000000</td>\n",
       "      <td>3</td>\n",
       "      <td>0.1500</td>\n",
       "      <td>-7.621</td>\n",
       "      <td>0</td>\n",
       "      <td>0.1820</td>\n",
       "      <td>140.175</td>\n",
       "      <td>4</td>\n",
       "      <td>0.7370</td>\n",
       "    </tr>\n",
       "  </tbody>\n",
       "</table>\n",
       "</div>"
      ],
      "text/plain": [
       "   acousticness  danceability  duration_ms  energy                track_id  \\\n",
       "0         0.499        0.4360       279204   0.655  3YJJjQPAbDT7mGpX3WtQ9A   \n",
       "1         0.700        0.0692       533707   0.285  51TAp7p7B3xboCl5HWmEkF   \n",
       "2         0.221        0.7000       140526   0.722  3tjFYV6RSFtuktYl3ZtYcq   \n",
       "3         0.729        0.2000       325680   0.282  79hqdNpnWPVVxmZiDfKaIL   \n",
       "4         0.190        0.7110       123429   0.598  5vGLcdRuSbUhD8ScwsGSdA   \n",
       "\n",
       "   instrumentalness  key  liveness  loudness  mode  speechiness    tempo  \\\n",
       "0          0.000008    1    0.6880    -8.370     0       0.0583  121.002   \n",
       "1          0.673000    2    0.1990   -14.854     1       0.0482   78.572   \n",
       "2          0.000000    7    0.2720    -3.558     0       0.0369   90.989   \n",
       "3          0.887000    2    0.0837   -19.803     0       0.0468   74.381   \n",
       "4          0.000000    3    0.1500    -7.621     0       0.1820  140.175   \n",
       "\n",
       "   time_signature  valence  \n",
       "0               4   0.4120  \n",
       "1               4   0.0312  \n",
       "2               4   0.7560  \n",
       "3               3   0.0372  \n",
       "4               4   0.7370  "
      ]
     },
     "execution_count": 89,
     "metadata": {},
     "output_type": "execute_result"
    }
   ],
   "source": [
    "df_uri = df_audio2020[['analysis_url', 'track_href', 'uri']]\n",
    "\n",
    "df2020 = df2020.drop(labels=['category'], axis=1)\n",
    "audio2020 = df_audio2020.drop(labels=['type', 'analysis_url', 'track_href', 'uri'], axis=1)\n",
    "audio2020.rename(columns={'id': 'track_id'}, inplace=True)\n",
    "audio2020.head()"
   ]
  },
  {
   "cell_type": "code",
   "execution_count": 76,
   "metadata": {},
   "outputs": [],
   "source": [
    "'''\n",
    "Acousticness: A measure from 0.0 to 1.0 of whether the track is acoustic.\n",
    "\n",
    "Danceability: Danceability describes how suitable a track is for dancing based on a combination of musical \n",
    "elements including tempo, rhythm stability, beat strength, and overall regularity. A value of 0.0 is least \n",
    "danceable and 1.0 is most danceable.\n",
    "\n",
    "duration_ms: Integer typically ranging from 200k to 300k\n",
    "\n",
    "Energy: Energy is a measure from 0.0 to 1.0 and represents a perceptual measure of intensity and activity. \n",
    "Typically, energetic tracks feel fast, loud, and noisy.\n",
    "\n",
    "Instrumentalness: Predicts whether a track contains no vocals. The closer the instrumentalness value is to 1.0, \n",
    "the greater likelihood the track contains no vocal content.\n",
    "\n",
    "Liveness: Detects the presence of an audience in the recording. Higher liveness values represent an increased \n",
    "probability that the track was performed live.\n",
    "\n",
    "Loudness: The overall loudness of a track in decibels (dB). Loudness values are averaged across the entire track. \n",
    "Values typical range between -60 and 0 db.\n",
    "\n",
    "Mode (0 = Minor, 1 = Major)\n",
    "\n",
    "Key (Categorical): All keys on octave encoded as values ranging from 0 to 11, starting on C as 0, C# as 1 and \n",
    "so on…\n",
    "\n",
    "Speechiness: Speechiness detects the presence of spoken words in a track. The more exclusively speech-like the \n",
    "recording (e.g. talk show, audio book, poetry), the closer to 1.0 the attribute value.\n",
    "\n",
    "Tempo: The overall estimated tempo of a track in beats per minute (BPM). In musical terminology, tempo is the \n",
    "speed or pace of a given piece and derives directly from the average beat duration.\n",
    "\n",
    "Valence: A measure from 0.0 to 1.0 describing the musical positiveness conveyed by a track. Tracks with high \n",
    "valence sound more positive (e.g. happy, cheerful, euphoric), while tracks with low valence sound more negative \n",
    "(e.g. sad, depressed, angry).\n",
    "'''"
   ]
  },
  {
   "cell_type": "code",
   "execution_count": 79,
   "metadata": {
    "scrolled": false
   },
   "outputs": [
    {
     "data": {
      "text/html": [
       "<div>\n",
       "<style scoped>\n",
       "    .dataframe tbody tr th:only-of-type {\n",
       "        vertical-align: middle;\n",
       "    }\n",
       "\n",
       "    .dataframe tbody tr th {\n",
       "        vertical-align: top;\n",
       "    }\n",
       "\n",
       "    .dataframe thead th {\n",
       "        text-align: right;\n",
       "    }\n",
       "</style>\n",
       "<table border=\"1\" class=\"dataframe\">\n",
       "  <thead>\n",
       "    <tr style=\"text-align: right;\">\n",
       "      <th></th>\n",
       "      <th>count</th>\n",
       "      <th>mean</th>\n",
       "      <th>std</th>\n",
       "      <th>min</th>\n",
       "      <th>25%</th>\n",
       "      <th>50%</th>\n",
       "      <th>75%</th>\n",
       "      <th>max</th>\n",
       "    </tr>\n",
       "  </thead>\n",
       "  <tbody>\n",
       "    <tr>\n",
       "      <th>acousticness</th>\n",
       "      <td>1947.0</td>\n",
       "      <td>0.187605</td>\n",
       "      <td>0.270073</td>\n",
       "      <td>0.000001</td>\n",
       "      <td>0.002905</td>\n",
       "      <td>0.050700</td>\n",
       "      <td>0.2560</td>\n",
       "      <td>0.996</td>\n",
       "    </tr>\n",
       "    <tr>\n",
       "      <th>danceability</th>\n",
       "      <td>1947.0</td>\n",
       "      <td>0.613074</td>\n",
       "      <td>0.166469</td>\n",
       "      <td>0.000000</td>\n",
       "      <td>0.490500</td>\n",
       "      <td>0.619000</td>\n",
       "      <td>0.7370</td>\n",
       "      <td>0.980</td>\n",
       "    </tr>\n",
       "    <tr>\n",
       "      <th>duration_ms</th>\n",
       "      <td>1947.0</td>\n",
       "      <td>187709.338469</td>\n",
       "      <td>81180.626231</td>\n",
       "      <td>30250.000000</td>\n",
       "      <td>146899.500000</td>\n",
       "      <td>188507.000000</td>\n",
       "      <td>223274.5000</td>\n",
       "      <td>842311.000</td>\n",
       "    </tr>\n",
       "    <tr>\n",
       "      <th>energy</th>\n",
       "      <td>1947.0</td>\n",
       "      <td>0.686922</td>\n",
       "      <td>0.222871</td>\n",
       "      <td>0.006320</td>\n",
       "      <td>0.550000</td>\n",
       "      <td>0.706000</td>\n",
       "      <td>0.8770</td>\n",
       "      <td>1.000</td>\n",
       "    </tr>\n",
       "    <tr>\n",
       "      <th>instrumentalness</th>\n",
       "      <td>1947.0</td>\n",
       "      <td>0.236123</td>\n",
       "      <td>0.363129</td>\n",
       "      <td>0.000000</td>\n",
       "      <td>0.000000</td>\n",
       "      <td>0.000098</td>\n",
       "      <td>0.5310</td>\n",
       "      <td>0.995</td>\n",
       "    </tr>\n",
       "    <tr>\n",
       "      <th>key</th>\n",
       "      <td>1947.0</td>\n",
       "      <td>5.329224</td>\n",
       "      <td>3.572187</td>\n",
       "      <td>0.000000</td>\n",
       "      <td>2.000000</td>\n",
       "      <td>6.000000</td>\n",
       "      <td>8.0000</td>\n",
       "      <td>11.000</td>\n",
       "    </tr>\n",
       "    <tr>\n",
       "      <th>liveness</th>\n",
       "      <td>1947.0</td>\n",
       "      <td>0.231186</td>\n",
       "      <td>0.185140</td>\n",
       "      <td>0.014700</td>\n",
       "      <td>0.104000</td>\n",
       "      <td>0.147000</td>\n",
       "      <td>0.3175</td>\n",
       "      <td>0.990</td>\n",
       "    </tr>\n",
       "    <tr>\n",
       "      <th>loudness</th>\n",
       "      <td>1947.0</td>\n",
       "      <td>-7.649714</td>\n",
       "      <td>3.683460</td>\n",
       "      <td>-34.256000</td>\n",
       "      <td>-8.785000</td>\n",
       "      <td>-6.843000</td>\n",
       "      <td>-5.4650</td>\n",
       "      <td>1.112</td>\n",
       "    </tr>\n",
       "    <tr>\n",
       "      <th>mode</th>\n",
       "      <td>1947.0</td>\n",
       "      <td>0.579353</td>\n",
       "      <td>0.493790</td>\n",
       "      <td>0.000000</td>\n",
       "      <td>0.000000</td>\n",
       "      <td>1.000000</td>\n",
       "      <td>1.0000</td>\n",
       "      <td>1.000</td>\n",
       "    </tr>\n",
       "    <tr>\n",
       "      <th>speechiness</th>\n",
       "      <td>1947.0</td>\n",
       "      <td>0.111294</td>\n",
       "      <td>0.108608</td>\n",
       "      <td>0.000000</td>\n",
       "      <td>0.042400</td>\n",
       "      <td>0.063200</td>\n",
       "      <td>0.1325</td>\n",
       "      <td>0.933</td>\n",
       "    </tr>\n",
       "    <tr>\n",
       "      <th>tempo</th>\n",
       "      <td>1947.0</td>\n",
       "      <td>124.422356</td>\n",
       "      <td>25.932862</td>\n",
       "      <td>0.000000</td>\n",
       "      <td>106.938000</td>\n",
       "      <td>128.025000</td>\n",
       "      <td>138.0630</td>\n",
       "      <td>211.749</td>\n",
       "    </tr>\n",
       "    <tr>\n",
       "      <th>time_signature</th>\n",
       "      <td>1947.0</td>\n",
       "      <td>3.914227</td>\n",
       "      <td>0.419634</td>\n",
       "      <td>0.000000</td>\n",
       "      <td>4.000000</td>\n",
       "      <td>4.000000</td>\n",
       "      <td>4.0000</td>\n",
       "      <td>5.000</td>\n",
       "    </tr>\n",
       "    <tr>\n",
       "      <th>valence</th>\n",
       "      <td>1947.0</td>\n",
       "      <td>0.427040</td>\n",
       "      <td>0.245871</td>\n",
       "      <td>0.000000</td>\n",
       "      <td>0.222500</td>\n",
       "      <td>0.411000</td>\n",
       "      <td>0.6145</td>\n",
       "      <td>0.978</td>\n",
       "    </tr>\n",
       "  </tbody>\n",
       "</table>\n",
       "</div>"
      ],
      "text/plain": [
       "                   count           mean           std           min  \\\n",
       "acousticness      1947.0       0.187605      0.270073      0.000001   \n",
       "danceability      1947.0       0.613074      0.166469      0.000000   \n",
       "duration_ms       1947.0  187709.338469  81180.626231  30250.000000   \n",
       "energy            1947.0       0.686922      0.222871      0.006320   \n",
       "instrumentalness  1947.0       0.236123      0.363129      0.000000   \n",
       "key               1947.0       5.329224      3.572187      0.000000   \n",
       "liveness          1947.0       0.231186      0.185140      0.014700   \n",
       "loudness          1947.0      -7.649714      3.683460    -34.256000   \n",
       "mode              1947.0       0.579353      0.493790      0.000000   \n",
       "speechiness       1947.0       0.111294      0.108608      0.000000   \n",
       "tempo             1947.0     124.422356     25.932862      0.000000   \n",
       "time_signature    1947.0       3.914227      0.419634      0.000000   \n",
       "valence           1947.0       0.427040      0.245871      0.000000   \n",
       "\n",
       "                            25%            50%          75%         max  \n",
       "acousticness           0.002905       0.050700       0.2560       0.996  \n",
       "danceability           0.490500       0.619000       0.7370       0.980  \n",
       "duration_ms       146899.500000  188507.000000  223274.5000  842311.000  \n",
       "energy                 0.550000       0.706000       0.8770       1.000  \n",
       "instrumentalness       0.000000       0.000098       0.5310       0.995  \n",
       "key                    2.000000       6.000000       8.0000      11.000  \n",
       "liveness               0.104000       0.147000       0.3175       0.990  \n",
       "loudness              -8.785000      -6.843000      -5.4650       1.112  \n",
       "mode                   0.000000       1.000000       1.0000       1.000  \n",
       "speechiness            0.042400       0.063200       0.1325       0.933  \n",
       "tempo                106.938000     128.025000     138.0630     211.749  \n",
       "time_signature         4.000000       4.000000       4.0000       5.000  \n",
       "valence                0.222500       0.411000       0.6145       0.978  "
      ]
     },
     "execution_count": 79,
     "metadata": {},
     "output_type": "execute_result"
    }
   ],
   "source": [
    "audio2020.describe().transpose()"
   ]
  },
  {
   "cell_type": "markdown",
   "metadata": {},
   "source": [
    "\n",
    "#### COMBINING (MERGING) BOTH TRACK IDS DATAFRAME AND AUDIO FEATURES DATAFRAME INTO ONE DATAFRAME"
   ]
  },
  {
   "cell_type": "code",
   "execution_count": 90,
   "metadata": {},
   "outputs": [
    {
     "data": {
      "text/html": [
       "<div>\n",
       "<style scoped>\n",
       "    .dataframe tbody tr th:only-of-type {\n",
       "        vertical-align: middle;\n",
       "    }\n",
       "\n",
       "    .dataframe tbody tr th {\n",
       "        vertical-align: top;\n",
       "    }\n",
       "\n",
       "    .dataframe thead th {\n",
       "        text-align: right;\n",
       "    }\n",
       "</style>\n",
       "<table border=\"1\" class=\"dataframe\">\n",
       "  <thead>\n",
       "    <tr style=\"text-align: right;\">\n",
       "      <th></th>\n",
       "      <th>artist_name</th>\n",
       "      <th>popularity</th>\n",
       "      <th>track_id</th>\n",
       "      <th>track_name</th>\n",
       "      <th>uri</th>\n",
       "      <th>acousticness</th>\n",
       "      <th>danceability</th>\n",
       "      <th>duration_ms</th>\n",
       "      <th>energy</th>\n",
       "      <th>instrumentalness</th>\n",
       "      <th>key</th>\n",
       "      <th>liveness</th>\n",
       "      <th>loudness</th>\n",
       "      <th>mode</th>\n",
       "      <th>speechiness</th>\n",
       "      <th>tempo</th>\n",
       "      <th>time_signature</th>\n",
       "      <th>valence</th>\n",
       "    </tr>\n",
       "  </thead>\n",
       "  <tbody>\n",
       "    <tr>\n",
       "      <th>0</th>\n",
       "      <td>SZA</td>\n",
       "      <td>92</td>\n",
       "      <td>3YJJjQPAbDT7mGpX3WtQ9A</td>\n",
       "      <td>Good Days</td>\n",
       "      <td>spotify:artist:7tYKF4w9nC0nq9CsPZTHyP</td>\n",
       "      <td>0.499</td>\n",
       "      <td>0.4360</td>\n",
       "      <td>279204</td>\n",
       "      <td>0.655</td>\n",
       "      <td>0.000008</td>\n",
       "      <td>1</td>\n",
       "      <td>0.6880</td>\n",
       "      <td>-8.370</td>\n",
       "      <td>0</td>\n",
       "      <td>0.0583</td>\n",
       "      <td>121.002</td>\n",
       "      <td>4</td>\n",
       "      <td>0.4120</td>\n",
       "    </tr>\n",
       "    <tr>\n",
       "      <th>1</th>\n",
       "      <td>Hammock</td>\n",
       "      <td>35</td>\n",
       "      <td>51TAp7p7B3xboCl5HWmEkF</td>\n",
       "      <td>Longest Year - 2020</td>\n",
       "      <td>spotify:artist:0VOR7Ie9xUSb45fzIIVJQ1</td>\n",
       "      <td>0.700</td>\n",
       "      <td>0.0692</td>\n",
       "      <td>533707</td>\n",
       "      <td>0.285</td>\n",
       "      <td>0.673000</td>\n",
       "      <td>2</td>\n",
       "      <td>0.1990</td>\n",
       "      <td>-14.854</td>\n",
       "      <td>1</td>\n",
       "      <td>0.0482</td>\n",
       "      <td>78.572</td>\n",
       "      <td>4</td>\n",
       "      <td>0.0312</td>\n",
       "    </tr>\n",
       "    <tr>\n",
       "      <th>2</th>\n",
       "      <td>24kGoldn</td>\n",
       "      <td>95</td>\n",
       "      <td>3tjFYV6RSFtuktYl3ZtYcq</td>\n",
       "      <td>Mood (feat. iann dior)</td>\n",
       "      <td>spotify:artist:6fWVd57NKTalqvmjRd2t8Z</td>\n",
       "      <td>0.221</td>\n",
       "      <td>0.7000</td>\n",
       "      <td>140526</td>\n",
       "      <td>0.722</td>\n",
       "      <td>0.000000</td>\n",
       "      <td>7</td>\n",
       "      <td>0.2720</td>\n",
       "      <td>-3.558</td>\n",
       "      <td>0</td>\n",
       "      <td>0.0369</td>\n",
       "      <td>90.989</td>\n",
       "      <td>4</td>\n",
       "      <td>0.7560</td>\n",
       "    </tr>\n",
       "    <tr>\n",
       "      <th>3</th>\n",
       "      <td>Hammock</td>\n",
       "      <td>40</td>\n",
       "      <td>79hqdNpnWPVVxmZiDfKaIL</td>\n",
       "      <td>Dark Beyond the Blue - 2020</td>\n",
       "      <td>spotify:artist:0VOR7Ie9xUSb45fzIIVJQ1</td>\n",
       "      <td>0.729</td>\n",
       "      <td>0.2000</td>\n",
       "      <td>325680</td>\n",
       "      <td>0.282</td>\n",
       "      <td>0.887000</td>\n",
       "      <td>2</td>\n",
       "      <td>0.0837</td>\n",
       "      <td>-19.803</td>\n",
       "      <td>0</td>\n",
       "      <td>0.0468</td>\n",
       "      <td>74.381</td>\n",
       "      <td>3</td>\n",
       "      <td>0.0372</td>\n",
       "    </tr>\n",
       "    <tr>\n",
       "      <th>4</th>\n",
       "      <td>CJ</td>\n",
       "      <td>93</td>\n",
       "      <td>5vGLcdRuSbUhD8ScwsGSdA</td>\n",
       "      <td>Whoopty</td>\n",
       "      <td>spotify:artist:7arQA31aZVS8yS6zUveWzb</td>\n",
       "      <td>0.190</td>\n",
       "      <td>0.7110</td>\n",
       "      <td>123429</td>\n",
       "      <td>0.598</td>\n",
       "      <td>0.000000</td>\n",
       "      <td>3</td>\n",
       "      <td>0.1500</td>\n",
       "      <td>-7.621</td>\n",
       "      <td>0</td>\n",
       "      <td>0.1820</td>\n",
       "      <td>140.175</td>\n",
       "      <td>4</td>\n",
       "      <td>0.7370</td>\n",
       "    </tr>\n",
       "  </tbody>\n",
       "</table>\n",
       "</div>"
      ],
      "text/plain": [
       "  artist_name  popularity                track_id  \\\n",
       "0         SZA          92  3YJJjQPAbDT7mGpX3WtQ9A   \n",
       "1     Hammock          35  51TAp7p7B3xboCl5HWmEkF   \n",
       "2    24kGoldn          95  3tjFYV6RSFtuktYl3ZtYcq   \n",
       "3     Hammock          40  79hqdNpnWPVVxmZiDfKaIL   \n",
       "4          CJ          93  5vGLcdRuSbUhD8ScwsGSdA   \n",
       "\n",
       "                    track_name                                    uri  \\\n",
       "0                    Good Days  spotify:artist:7tYKF4w9nC0nq9CsPZTHyP   \n",
       "1          Longest Year - 2020  spotify:artist:0VOR7Ie9xUSb45fzIIVJQ1   \n",
       "2       Mood (feat. iann dior)  spotify:artist:6fWVd57NKTalqvmjRd2t8Z   \n",
       "3  Dark Beyond the Blue - 2020  spotify:artist:0VOR7Ie9xUSb45fzIIVJQ1   \n",
       "4                      Whoopty  spotify:artist:7arQA31aZVS8yS6zUveWzb   \n",
       "\n",
       "   acousticness  danceability  duration_ms  energy  instrumentalness  key  \\\n",
       "0         0.499        0.4360       279204   0.655          0.000008    1   \n",
       "1         0.700        0.0692       533707   0.285          0.673000    2   \n",
       "2         0.221        0.7000       140526   0.722          0.000000    7   \n",
       "3         0.729        0.2000       325680   0.282          0.887000    2   \n",
       "4         0.190        0.7110       123429   0.598          0.000000    3   \n",
       "\n",
       "   liveness  loudness  mode  speechiness    tempo  time_signature  valence  \n",
       "0    0.6880    -8.370     0       0.0583  121.002               4   0.4120  \n",
       "1    0.1990   -14.854     1       0.0482   78.572               4   0.0312  \n",
       "2    0.2720    -3.558     0       0.0369   90.989               4   0.7560  \n",
       "3    0.0837   -19.803     0       0.0468   74.381               3   0.0372  \n",
       "4    0.1500    -7.621     0       0.1820  140.175               4   0.7370  "
      ]
     },
     "execution_count": 90,
     "metadata": {},
     "output_type": "execute_result"
    }
   ],
   "source": [
    "df = pd.merge(df2020, audio2020, on='track_id', how='inner')\n",
    "df.head()"
   ]
  },
  {
   "cell_type": "markdown",
   "metadata": {},
   "source": [
    "#### SAVE ALL 3 DATASETS INTO HDFS"
   ]
  },
  {
   "cell_type": "code",
   "execution_count": 94,
   "metadata": {},
   "outputs": [],
   "source": [
    "# First save all 3 in spark format\n",
    "\n",
    "sp2020 = spark.createDataFrame(df2020)\n",
    "sp_audio2020 = spark.createDataFrame(audio2020)\n",
    "sp = spark.createDataFrame(df)"
   ]
  },
  {
   "cell_type": "code",
   "execution_count": 97,
   "metadata": {},
   "outputs": [],
   "source": [
    "# Save to HDFS\n",
    "\n",
    "sp2020.write.save('/user/hadoop/capstone', format='parquet', mode='append')\n",
    "sp_audio2020.write.save('/user/hadoop/capstone', format='parquet', mode='append')\n",
    "sp.write.save('/user/hadoop/capstone', format='parquet', mode='append')"
   ]
  },
  {
   "cell_type": "code",
   "execution_count": 98,
   "metadata": {},
   "outputs": [],
   "source": [
    "# # Save to Local Disk \n",
    "\n",
    "df2020.to_csv('SpotifyTracks.csv')\n",
    "df_audio2020.to_csv('SpotifyAudio.csv')\n",
    "df.to_csv('Spotify2020.csv')"
   ]
  },
  {
   "cell_type": "code",
   "execution_count": 100,
   "metadata": {},
   "outputs": [],
   "source": [
    "spark.stop()\n",
    "sc.stop()"
   ]
  },
  {
   "cell_type": "code",
   "execution_count": null,
   "metadata": {},
   "outputs": [],
   "source": []
  }
 ],
 "metadata": {
  "kernelspec": {
   "display_name": "Python 3",
   "language": "python",
   "name": "python3"
  },
  "language_info": {
   "codemirror_mode": {
    "name": "ipython",
    "version": 3
   },
   "file_extension": ".py",
   "mimetype": "text/x-python",
   "name": "python",
   "nbconvert_exporter": "python",
   "pygments_lexer": "ipython3",
   "version": "3.8.5"
  }
 },
 "nbformat": 4,
 "nbformat_minor": 5
}
